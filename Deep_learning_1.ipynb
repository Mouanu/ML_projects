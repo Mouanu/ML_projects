{
 "cells": [
  {
   "cell_type": "code",
   "execution_count": 3,
   "id": "fce62b82",
   "metadata": {},
   "outputs": [
    {
     "name": "stdout",
     "output_type": "stream",
     "text": [
      "Collecting keras\n",
      "  Obtaining dependency information for keras from https://files.pythonhosted.org/packages/46/43/03fa53f027e78af4a6bee3564d05cb34d9f5b924dc69c85f8ef5cb950ff1/keras-3.4.1-py3-none-any.whl.metadata\n",
      "  Downloading keras-3.4.1-py3-none-any.whl.metadata (5.8 kB)\n",
      "Collecting absl-py (from keras)\n",
      "  Obtaining dependency information for absl-py from https://files.pythonhosted.org/packages/a2/ad/e0d3c824784ff121c03cc031f944bc7e139a8f1870ffd2845cc2dd76f6c4/absl_py-2.1.0-py3-none-any.whl.metadata\n",
      "  Downloading absl_py-2.1.0-py3-none-any.whl.metadata (2.3 kB)\n",
      "Requirement already satisfied: numpy in c:\\users\\biswa\\anaconda3\\lib\\site-packages (from keras) (1.24.3)\n",
      "Collecting rich (from keras)\n",
      "  Obtaining dependency information for rich from https://files.pythonhosted.org/packages/87/67/a37f6214d0e9fe57f6ae54b2956d550ca8365857f42a1ce0392bb21d9410/rich-13.7.1-py3-none-any.whl.metadata\n",
      "  Downloading rich-13.7.1-py3-none-any.whl.metadata (18 kB)\n",
      "Collecting namex (from keras)\n",
      "  Obtaining dependency information for namex from https://files.pythonhosted.org/packages/73/59/7854fbfb59f8ae35483ce93493708be5942ebb6328cd85b3a609df629736/namex-0.0.8-py3-none-any.whl.metadata\n",
      "  Downloading namex-0.0.8-py3-none-any.whl.metadata (246 bytes)\n",
      "Requirement already satisfied: h5py in c:\\users\\biswa\\anaconda3\\lib\\site-packages (from keras) (3.7.0)\n",
      "Collecting optree (from keras)\n",
      "  Obtaining dependency information for optree from https://files.pythonhosted.org/packages/12/26/ce14a11c328bfcf29341da42342cc48e4d65fb44e4e559c9e4036a88b750/optree-0.12.1-cp311-cp311-win_amd64.whl.metadata\n",
      "  Downloading optree-0.12.1-cp311-cp311-win_amd64.whl.metadata (48 kB)\n",
      "     ---------------------------------------- 0.0/48.7 kB ? eta -:--:--\n",
      "     ------------------------- -------------- 30.7/48.7 kB ? eta -:--:--\n",
      "     -------------------------------------- 48.7/48.7 kB 818.0 kB/s eta 0:00:00\n",
      "Collecting ml-dtypes (from keras)\n",
      "  Obtaining dependency information for ml-dtypes from https://files.pythonhosted.org/packages/f0/36/290745178e5776f7416818abc1334c1b19afb93c7c87fd1bef3cc99f84ca/ml_dtypes-0.4.0-cp311-cp311-win_amd64.whl.metadata\n",
      "  Downloading ml_dtypes-0.4.0-cp311-cp311-win_amd64.whl.metadata (20 kB)\n",
      "Requirement already satisfied: packaging in c:\\users\\biswa\\anaconda3\\lib\\site-packages (from keras) (23.0)\n",
      "Requirement already satisfied: typing-extensions>=4.5.0 in c:\\users\\biswa\\anaconda3\\lib\\site-packages (from optree->keras) (4.7.1)\n",
      "Requirement already satisfied: markdown-it-py>=2.2.0 in c:\\users\\biswa\\anaconda3\\lib\\site-packages (from rich->keras) (2.2.0)\n",
      "Requirement already satisfied: pygments<3.0.0,>=2.13.0 in c:\\users\\biswa\\anaconda3\\lib\\site-packages (from rich->keras) (2.15.1)\n",
      "Requirement already satisfied: mdurl~=0.1 in c:\\users\\biswa\\anaconda3\\lib\\site-packages (from markdown-it-py>=2.2.0->rich->keras) (0.1.0)\n",
      "Downloading keras-3.4.1-py3-none-any.whl (1.1 MB)\n",
      "   ---------------------------------------- 0.0/1.1 MB ? eta -:--:--\n",
      "   -- ------------------------------------- 0.1/1.1 MB 2.3 MB/s eta 0:00:01\n",
      "   ------- -------------------------------- 0.2/1.1 MB 2.2 MB/s eta 0:00:01\n",
      "   --------- ------------------------------ 0.3/1.1 MB 2.3 MB/s eta 0:00:01\n",
      "   --------- ------------------------------ 0.3/1.1 MB 2.3 MB/s eta 0:00:01\n",
      "   --------- ------------------------------ 0.3/1.1 MB 1.2 MB/s eta 0:00:01\n",
      "   --------- ------------------------------ 0.3/1.1 MB 1.2 MB/s eta 0:00:01\n",
      "   ---------- ----------------------------- 0.3/1.1 MB 951.8 kB/s eta 0:00:01\n",
      "   ---------------- ----------------------- 0.5/1.1 MB 1.3 MB/s eta 0:00:01\n",
      "   ------------------- -------------------- 0.5/1.1 MB 1.3 MB/s eta 0:00:01\n",
      "   ------------------------ --------------- 0.7/1.1 MB 1.5 MB/s eta 0:00:01\n",
      "   -------------------------- ------------- 0.7/1.1 MB 1.4 MB/s eta 0:00:01\n",
      "   ------------------------------ --------- 0.9/1.1 MB 1.7 MB/s eta 0:00:01\n",
      "   ------------------------------ --------- 0.9/1.1 MB 1.7 MB/s eta 0:00:01\n",
      "   -------------------------------- ------- 0.9/1.1 MB 1.4 MB/s eta 0:00:01\n",
      "   ----------------------------------- ---- 1.0/1.1 MB 1.5 MB/s eta 0:00:01\n",
      "   ---------------------------------------- 1.1/1.1 MB 1.5 MB/s eta 0:00:00\n",
      "Downloading absl_py-2.1.0-py3-none-any.whl (133 kB)\n",
      "   ---------------------------------------- 0.0/133.7 kB ? eta -:--:--\n",
      "   ---------------------------------------- 133.7/133.7 kB 4.0 MB/s eta 0:00:00\n",
      "Downloading ml_dtypes-0.4.0-cp311-cp311-win_amd64.whl (126 kB)\n",
      "   ---------------------------------------- 0.0/126.8 kB ? eta -:--:--\n",
      "   ---------------------------------------- 126.8/126.8 kB 3.6 MB/s eta 0:00:00\n",
      "Downloading namex-0.0.8-py3-none-any.whl (5.8 kB)\n",
      "Downloading optree-0.12.1-cp311-cp311-win_amd64.whl (268 kB)\n",
      "   ---------------------------------------- 0.0/268.5 kB ? eta -:--:--\n",
      "   ---------------------------- ----------- 194.6/268.5 kB 5.9 MB/s eta 0:00:01\n",
      "   ---------------------------- ----------- 194.6/268.5 kB 5.9 MB/s eta 0:00:01\n",
      "   ---------------------------------------- 268.5/268.5 kB 2.8 MB/s eta 0:00:00\n",
      "Downloading rich-13.7.1-py3-none-any.whl (240 kB)\n",
      "   ---------------------------------------- 0.0/240.7 kB ? eta -:--:--\n",
      "   --------------------------- ------------ 163.8/240.7 kB 5.0 MB/s eta 0:00:01\n",
      "   ---------------------------------------- 240.7/240.7 kB 3.7 MB/s eta 0:00:00\n",
      "Installing collected packages: namex, optree, ml-dtypes, absl-py, rich, keras\n",
      "Successfully installed absl-py-2.1.0 keras-3.4.1 ml-dtypes-0.4.0 namex-0.0.8 optree-0.12.1 rich-13.7.1\n"
     ]
    }
   ],
   "source": [
    "!pip install keras\n"
   ]
  },
  {
   "cell_type": "code",
   "execution_count": 2,
   "id": "de4d42a2",
   "metadata": {},
   "outputs": [
    {
     "ename": "ModuleNotFoundError",
     "evalue": "No module named 'keras'",
     "output_type": "error",
     "traceback": [
      "\u001b[1;31m---------------------------------------------------------------------------\u001b[0m",
      "\u001b[1;31mModuleNotFoundError\u001b[0m                       Traceback (most recent call last)",
      "Cell \u001b[1;32mIn[2], line 1\u001b[0m\n\u001b[1;32m----> 1\u001b[0m \u001b[38;5;28;01mfrom\u001b[39;00m \u001b[38;5;21;01mkeras\u001b[39;00m\u001b[38;5;21;01m.\u001b[39;00m\u001b[38;5;21;01mmodels\u001b[39;00m \u001b[38;5;28;01mimport\u001b[39;00m Sequential\n\u001b[0;32m      2\u001b[0m \u001b[38;5;28;01mfrom\u001b[39;00m \u001b[38;5;21;01mkeras\u001b[39;00m\u001b[38;5;21;01m.\u001b[39;00m\u001b[38;5;21;01mlayers\u001b[39;00m \u001b[38;5;28;01mimport\u001b[39;00m Dense,Activation\n",
      "\u001b[1;31mModuleNotFoundError\u001b[0m: No module named 'keras'"
     ]
    }
   ],
   "source": [
    "from keras.models import Sequential\n",
    "from keras.layers import Dense,Activation\n",
    "\n"
   ]
  },
  {
   "cell_type": "code",
   "execution_count": null,
   "id": "8dcd3449",
   "metadata": {},
   "outputs": [],
   "source": []
  }
 ],
 "metadata": {
  "kernelspec": {
   "display_name": "Python 3 (ipykernel)",
   "language": "python",
   "name": "python3"
  },
  "language_info": {
   "codemirror_mode": {
    "name": "ipython",
    "version": 3
   },
   "file_extension": ".py",
   "mimetype": "text/x-python",
   "name": "python",
   "nbconvert_exporter": "python",
   "pygments_lexer": "ipython3",
   "version": "3.11.4"
  }
 },
 "nbformat": 4,
 "nbformat_minor": 5
}
